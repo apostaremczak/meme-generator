{
 "cells": [
  {
   "cell_type": "code",
   "execution_count": 1,
   "metadata": {},
   "outputs": [],
   "source": [
    "import pandas as pd\n",
    "from typing import Dict, List"
   ]
  },
  {
   "cell_type": "code",
   "execution_count": 2,
   "metadata": {},
   "outputs": [],
   "source": [
    "CAPTIONS_PATH = \"meme_database\""
   ]
  },
  {
   "cell_type": "code",
   "execution_count": 3,
   "metadata": {},
   "outputs": [],
   "source": [
    "def read_categories():\n",
    "    with open(f\"{CAPTIONS_PATH}/categories.txt\", \"r\") as f:\n",
    "        categories = [line.strip() for line in f]\n",
    "    return categories\n",
    "\n",
    "categories = read_categories()"
   ]
  },
  {
   "cell_type": "code",
   "execution_count": 4,
   "metadata": {},
   "outputs": [],
   "source": [
    "def read_category_memes(category_name: str) -> pd.DataFrame:\n",
    "    file_name = f\"{CAPTIONS_PATH}/{category_name}.json\"\n",
    "    return pd.read_json(file_name, lines=\"series\")\n",
    "\n",
    "meme_db = {\n",
    "    category_name: read_category_memes(category_name)\n",
    "    for category_name in categories\n",
    "}"
   ]
  },
  {
   "cell_type": "code",
   "execution_count": 5,
   "metadata": {},
   "outputs": [
    {
     "name": "stdout",
     "output_type": "stream",
     "text": [
      "Total count: 41127\n"
     ]
    }
   ],
   "source": [
    "meme_count = {\n",
    "    category_name: len(memes)\n",
    "    for category_name, memes in meme_db.items()\n",
    "}\n",
    "\n",
    "print(f\"Total count: {sum(x for x in meme_count.values())}\")"
   ]
  },
  {
   "cell_type": "code",
   "execution_count": 6,
   "metadata": {},
   "outputs": [],
   "source": [
    "two_buttons = pd.read_json(\"meme_database/Two-Buttons.json\", lines=\"series\")"
   ]
  },
  {
   "cell_type": "code",
   "execution_count": 7,
   "metadata": {},
   "outputs": [
    {
     "name": "stdout",
     "output_type": "stream",
     "text": [
      "<class 'pandas.core.frame.DataFrame'>\n",
      "RangeIndex: 2021 entries, 0 to 2020\n",
      "Data columns (total 2 columns):\n",
      "id         2021 non-null object\n",
      "caption    2021 non-null object\n",
      "dtypes: object(2)\n",
      "memory usage: 31.7+ KB\n",
      "None\n"
     ]
    },
    {
     "data": {
      "text/html": [
       "<div>\n",
       "<style scoped>\n",
       "    .dataframe tbody tr th:only-of-type {\n",
       "        vertical-align: middle;\n",
       "    }\n",
       "\n",
       "    .dataframe tbody tr th {\n",
       "        vertical-align: top;\n",
       "    }\n",
       "\n",
       "    .dataframe thead th {\n",
       "        text-align: right;\n",
       "    }\n",
       "</style>\n",
       "<table border=\"1\" class=\"dataframe\">\n",
       "  <thead>\n",
       "    <tr style=\"text-align: right;\">\n",
       "      <th></th>\n",
       "      <th>id</th>\n",
       "      <th>caption</th>\n",
       "    </tr>\n",
       "  </thead>\n",
       "  <tbody>\n",
       "    <tr>\n",
       "      <th>0</th>\n",
       "      <td>3dwvg7</td>\n",
       "      <td>play fortnight; play minecraft</td>\n",
       "    </tr>\n",
       "    <tr>\n",
       "      <th>1</th>\n",
       "      <td>2sga2r</td>\n",
       "      <td>2000+ PEOPLE IN FRONT OF YOU; IS THIS STILL LA...</td>\n",
       "    </tr>\n",
       "    <tr>\n",
       "      <th>2</th>\n",
       "      <td>33891a</td>\n",
       "      <td>other button; button</td>\n",
       "    </tr>\n",
       "    <tr>\n",
       "      <th>3</th>\n",
       "      <td>2ougwj</td>\n",
       "      <td>certain death; certain death</td>\n",
       "    </tr>\n",
       "    <tr>\n",
       "      <th>4</th>\n",
       "      <td>3akmdc</td>\n",
       "      <td>receive $1,000,000 dollars illegally; receive ...</td>\n",
       "    </tr>\n",
       "  </tbody>\n",
       "</table>\n",
       "</div>"
      ],
      "text/plain": [
       "       id                                            caption\n",
       "0  3dwvg7                     play fortnight; play minecraft\n",
       "1  2sga2r  2000+ PEOPLE IN FRONT OF YOU; IS THIS STILL LA...\n",
       "2  33891a                               other button; button\n",
       "3  2ougwj                       certain death; certain death\n",
       "4  3akmdc  receive $1,000,000 dollars illegally; receive ..."
      ]
     },
     "execution_count": 7,
     "metadata": {},
     "output_type": "execute_result"
    }
   ],
   "source": [
    "print(two_buttons.info())\n",
    "two_buttons.head()"
   ]
  },
  {
   "cell_type": "code",
   "execution_count": 8,
   "metadata": {},
   "outputs": [
    {
     "data": {
      "text/html": [
       "<div>\n",
       "<style scoped>\n",
       "    .dataframe tbody tr th:only-of-type {\n",
       "        vertical-align: middle;\n",
       "    }\n",
       "\n",
       "    .dataframe tbody tr th {\n",
       "        vertical-align: top;\n",
       "    }\n",
       "\n",
       "    .dataframe thead th {\n",
       "        text-align: right;\n",
       "    }\n",
       "</style>\n",
       "<table border=\"1\" class=\"dataframe\">\n",
       "  <thead>\n",
       "    <tr style=\"text-align: right;\">\n",
       "      <th></th>\n",
       "      <th>id</th>\n",
       "      <th>caption</th>\n",
       "    </tr>\n",
       "  </thead>\n",
       "  <tbody>\n",
       "    <tr>\n",
       "      <th>0</th>\n",
       "      <td>3dwvg7</td>\n",
       "      <td>play fortnight; play minecraft</td>\n",
       "    </tr>\n",
       "    <tr>\n",
       "      <th>1</th>\n",
       "      <td>2sga2r</td>\n",
       "      <td>2000+ PEOPLE IN FRONT OF YOU; IS THIS STILL LA...</td>\n",
       "    </tr>\n",
       "    <tr>\n",
       "      <th>2</th>\n",
       "      <td>33891a</td>\n",
       "      <td>other button; button</td>\n",
       "    </tr>\n",
       "    <tr>\n",
       "      <th>3</th>\n",
       "      <td>2ougwj</td>\n",
       "      <td>certain death; certain death</td>\n",
       "    </tr>\n",
       "    <tr>\n",
       "      <th>4</th>\n",
       "      <td>3akmdc</td>\n",
       "      <td>receive $1,000,000 dollars illegally; receive ...</td>\n",
       "    </tr>\n",
       "    <tr>\n",
       "      <th>...</th>\n",
       "      <td>...</td>\n",
       "      <td>...</td>\n",
       "    </tr>\n",
       "    <tr>\n",
       "      <th>2016</th>\n",
       "      <td>2sk3rj</td>\n",
       "      <td>or miss; Hit</td>\n",
       "    </tr>\n",
       "    <tr>\n",
       "      <th>2017</th>\n",
       "      <td>2po0g0</td>\n",
       "      <td>Become a furry; Meet God</td>\n",
       "    </tr>\n",
       "    <tr>\n",
       "      <th>2018</th>\n",
       "      <td>2qh8hk</td>\n",
       "      <td>BAN DANK MEMES; end world hunger</td>\n",
       "    </tr>\n",
       "    <tr>\n",
       "      <th>2019</th>\n",
       "      <td>2szn75</td>\n",
       "      <td>Watch a tree grow; Watch the super bowl halfti...</td>\n",
       "    </tr>\n",
       "    <tr>\n",
       "      <th>2020</th>\n",
       "      <td>3fl01b</td>\n",
       "      <td>Remaking Skyrim; Making Elder Scrolls 6</td>\n",
       "    </tr>\n",
       "  </tbody>\n",
       "</table>\n",
       "<p>2021 rows × 2 columns</p>\n",
       "</div>"
      ],
      "text/plain": [
       "          id                                            caption\n",
       "0     3dwvg7                     play fortnight; play minecraft\n",
       "1     2sga2r  2000+ PEOPLE IN FRONT OF YOU; IS THIS STILL LA...\n",
       "2     33891a                               other button; button\n",
       "3     2ougwj                       certain death; certain death\n",
       "4     3akmdc  receive $1,000,000 dollars illegally; receive ...\n",
       "...      ...                                                ...\n",
       "2016  2sk3rj                                       or miss; Hit\n",
       "2017  2po0g0                           Become a furry; Meet God\n",
       "2018  2qh8hk                   BAN DANK MEMES; end world hunger\n",
       "2019  2szn75  Watch a tree grow; Watch the super bowl halfti...\n",
       "2020  3fl01b            Remaking Skyrim; Making Elder Scrolls 6\n",
       "\n",
       "[2021 rows x 2 columns]"
      ]
     },
     "execution_count": 8,
     "metadata": {},
     "output_type": "execute_result"
    }
   ],
   "source": [
    "two_buttons.drop_duplicates()"
   ]
  },
  {
   "cell_type": "code",
   "execution_count": 53,
   "metadata": {},
   "outputs": [],
   "source": [
    "from nltk.tokenize import word_tokenize\n",
    "\n",
    "\n",
    "def sanitize_caption(caption: str) -> str:\n",
    "    \"\"\"\n",
    "    Make caption lowercase, remove non-alphabetical characters.\n",
    "    \"\"\"\n",
    "    caption = caption.lower()\n",
    "#     caption = \"\".join([letter for letter in caption if letter.isalpha() or letter == \" \"])\n",
    "    return caption\n",
    "    \n",
    "\n",
    "def gather_vocabulary(captions: Dict[str, pd.DataFrame]) -> List[str]:\n",
    "    vocabulary = {}\n",
    "    for category_name, category_memes in captions.items():\n",
    "        captions = category_memes[\"caption\"].tolist()\n",
    "        sanitized_captions = [sanitize_caption(caption) for caption in captions]\n",
    "        tokenized_captions = [word_tokenize(caption) for caption in sanitized_captions]\n",
    "        words = [word for caption in tokenized_captions for word in caption]\n",
    "        \n",
    "        vocabulary[category_name] = words\n",
    "    return vocabulary"
   ]
  },
  {
   "cell_type": "code",
   "execution_count": 54,
   "metadata": {},
   "outputs": [],
   "source": [
    "vocab = gather_vocabulary(meme_db)"
   ]
  },
  {
   "cell_type": "code",
   "execution_count": 56,
   "metadata": {
    "scrolled": false
   },
   "outputs": [
    {
     "name": "stdout",
     "output_type": "stream",
     "text": [
      "Top words for category: Woman-Yelling-At-Cat\n",
      "[('!', 1637), (';', 1185), ('.', 419), (',', 406), (\"'s\", 251), ('?', 214), (':', 187), (\"n't\", 186), ('’', 169), ('said', 155)]\n",
      "\n",
      "Top words for category: Surprised-Pikachu\n",
      "[(':', 3270), (';', 2848), ('.', 343), ('!', 339), (',', 318), ('?', 296), (\"n't\", 216), ('mom', 182), ('teacher', 162), ('meme', 160)]\n",
      "\n",
      "Top words for category: Two-Buttons\n",
      "[(';', 2342), ('memes', 186), ('meme', 148), ('get', 133), ('make', 120), ('fortnite', 114), ('.', 103), ('!', 101), (',', 89), ('life', 83)]\n",
      "\n",
      "Top words for category: Blank-Nut-Button\n",
      "[(';', 1960), ('!', 191), (':', 184), ('button', 182), ('fortnite', 96), ('meme', 94), ('``', 94), ('mom', 86), ('memes', 85), (\"''\", 76)]\n",
      "\n",
      "Top words for category: Distracted-Boyfriend\n",
      "[(';', 3834), ('fortnite', 171), ('memes', 166), ('minecraft', 122), ('meme', 99), (',', 92), (\"'s\", 87), ('!', 78), ('people', 76), ('girl', 74)]\n",
      "\n",
      "Top words for category: Tuxedo-Winnie-The-Pooh\n",
      "[(';', 1833), (',', 329), ('.', 254), ('!', 116), ('``', 95), ('?', 87), ('meme', 75), ('+', 74), (\"'s\", 73), (\"''\", 72)]\n",
      "\n",
      "Top words for category: Running-Away-Balloon\n",
      "[(';', 6090), ('life', 149), ('good', 141), (',', 137), ('school', 137), ('games', 115), ('homework', 112), ('!', 102), ('memes', 97), ('mom', 93)]\n",
      "\n",
      "Top words for category: Spongebob-Ight-Imma-Head-Out\n",
      "[(':', 540), (';', 454), ('.', 72), (',', 64), (\"'s\", 61), ('mom', 58), ('!', 56), ('says', 53), ('get', 51), ('teacher', 48)]\n",
      "\n",
      "Top words for category: American-Chopper-Argument\n",
      "[('!', 4497), (';', 3665), (',', 822), ('?', 676), ('.', 538), (\"'s\", 466), (\"n't\", 464), ('’', 363), (':', 268), ('go', 264)]\n",
      "\n",
      "Top words for category: Oprah-You-Get-A\n",
      "[('da', 2245), ('!', 715), ('die', 569), ('di', 561), ('get', 509), (';', 440), (',', 145), ('gets', 119), ('everyone', 76), ('.', 50)]\n",
      "\n",
      "Top words for category: Hide-the-Pain-Harold\n",
      "[(';', 1571), ('.', 912), (',', 695), ('wife', 423), (\"'s\", 326), (\"n't\", 263), ('``', 258), ('...', 223), ('’', 204), ('said', 203)]\n",
      "\n",
      "Top words for category: Is-This-A-Pigeon\n",
      "[(';', 3238), ('?', 1148), (',', 123), ('meme', 123), ('``', 120), ('!', 97), ('good', 94), (\"''\", 91), ('people', 82), ('.', 82)]\n",
      "\n",
      "Top words for category: Inhaling-Seagull\n",
      "[(';', 5126), ('!', 2788), ('?', 342), ('...', 336), (',', 275), (':', 257), ('.', 221), ('*inhales*', 171), (\"'s\", 126), ('get', 121)]\n",
      "\n",
      "Top words for category: Unsettled-Tom\n",
      "[(':', 2568), (';', 1843), ('everyone', 1064), ('else', 922), ('.', 174), (\"'s\", 120), (',', 116), ('everybody', 102), ('!', 92), ('get', 84)]\n",
      "\n",
      "Top words for category: Evil-Kermit\n",
      "[(';', 743), (':', 256), ('.', 153), ('?', 135), (',', 134), ('!', 131), ('...', 97), ('kermit', 76), (\"n't\", 67), ('father', 63)]\n",
      "\n",
      "Top words for category: Hard-To-Swallow-Pills\n",
      "[(';', 409), ('.', 129), (',', 108), (\"n't\", 84), ('pills', 73), ('!', 51), ('...', 44), ('meme', 42), ('get', 40), ('memes', 39)]\n",
      "\n",
      "Top words for category: Expanding-Brain\n",
      "[(';', 5639), ('memes', 350), ('meme', 305), ('!', 226), (',', 205), ('making', 203), ('using', 177), ('brain', 176), ('people', 170), ('minecraft', 157)]\n",
      "\n",
      "Top words for category: Change-My-Mind\n",
      "[('.', 285), (';', 278), (',', 173), (\"n't\", 167), ('people', 118), (\"'s\", 115), ('meme', 95), ('memes', 90), ('mind', 77), ('better', 76)]\n",
      "\n",
      "Top words for category: Mocking-Spongebob\n",
      "[(';', 1445), ('!', 466), (':', 381), ('?', 185), ('like', 158), (\"n't\", 139), ('.', 117), (',', 106), ('mom', 98), ('chicken', 92)]\n",
      "\n",
      "Top words for category: Drake-Hotline-Bling\n",
      "[(';', 1857), ('memes', 181), (',', 171), ('.', 135), ('meme', 135), ('fortnite', 107), ('$', 103), ('minecraft', 100), (\"'s\", 98), ('using', 93)]\n",
      "\n",
      "Top words for category: Epic-Handshake\n",
      "[(';', 304), ('people', 17), ('memes', 10), ('fans', 10), (\"'s\", 9), ('``', 8), (\"''\", 8), ('kids', 7), ('minecraft', 7), ('fortnite', 6)]\n",
      "\n",
      "Top words for category: But-Thats-None-Of-My-Business\n",
      "[(';', 853), ('like', 400), ('none', 396), ('business', 392), ('fortnite', 327), (\"'s\", 311), ('.', 259), (',', 240), ('tea', 188), (\"n't\", 110)]\n",
      "\n",
      "Top words for category: Me-And-The-Boys\n",
      "[('boys', 964), (';', 500), ('area', 83), ('51', 83), ('memes', 68), (':', 64), ('.', 61), ('looking', 56), ('get', 51), ('!', 49)]\n",
      "\n",
      "Top words for category: This-Is-Where-Id-Put-My-Trophy-If-I-Had-One\n",
      "[(';', 538), ('!', 347), ('put', 324), ('one', 178), (\"'d\", 161), ('would', 132), (',', 50), ('life', 47), (\"'s\", 43), (\"n't\", 37)]\n",
      "\n",
      "Top words for category: Well-Yes-But-Actually-No\n",
      "[(':', 546), (';', 239), ('?', 235), (',', 68), ('teacher', 48), ('``', 44), ('mom', 43), ('ask', 37), ('asks', 34), ('!', 32)]\n",
      "\n",
      "Top words for category: Imagination-Spongebob\n",
      "[(';', 350), ('imagination', 94), ('!', 59), ('.', 41), ('gay', 35), (',', 31), ('?', 29), ('...', 27), ('rainbow', 26), ('use', 24)]\n",
      "\n",
      "Top words for category: Put-It-Somewhere-Else-Patrick\n",
      "[(';', 475), ('!', 190), ('take', 162), ('put', 93), ('push', 54), ('?', 53), (\"n't\", 50), ('else', 46), ('.', 46), ('somewhere', 42)]\n",
      "\n",
      "Top words for category: Arthur-Fist\n",
      "[(';', 147), ('someone', 26), ('says', 22), ('.', 18), ('get', 15), (':', 15), (\"n't\", 14), ('meme', 13), ('...', 12), ('time', 12)]\n",
      "\n",
      "Top words for category: Left-Exit-12-Off-Ramp\n",
      "[(';', 3815), ('!', 209), ('memes', 198), ('life', 145), (',', 130), ('fortnite', 129), ('school', 124), ('good', 118), ('.', 104), ('go', 90)]\n",
      "\n"
     ]
    }
   ],
   "source": [
    "from collections import Counter\n",
    "from nltk.corpus import stopwords\n",
    "\n",
    "english_stopwords = set(stopwords.words('english'))\n",
    "for category, cat_vocab in vocab.items():\n",
    "    # Remove stop words\n",
    "    meaningful_words = filter(lambda word: word not in english_stopwords, cat_vocab)\n",
    "    counted_words = Counter(meaningful_words)\n",
    "    print(f\"Top words for category: {category}\")\n",
    "    print(counted_words.most_common(10))\n",
    "    print()"
   ]
  },
  {
   "cell_type": "code",
   "execution_count": 18,
   "metadata": {},
   "outputs": [
    {
     "data": {
      "text/plain": [
       "True"
      ]
     },
     "execution_count": 18,
     "metadata": {},
     "output_type": "execute_result"
    }
   ],
   "source": [
    "\"a\".isalpha()"
   ]
  },
  {
   "cell_type": "code",
   "execution_count": 47,
   "metadata": {},
   "outputs": [],
   "source": [
    "vocab"
   ]
  },
  {
   "cell_type": "code",
   "execution_count": null,
   "metadata": {},
   "outputs": [],
   "source": []
  }
 ],
 "metadata": {
  "kernelspec": {
   "display_name": "Python 3",
   "language": "python",
   "name": "python3"
  },
  "language_info": {
   "codemirror_mode": {
    "name": "ipython",
    "version": 3
   },
   "file_extension": ".py",
   "mimetype": "text/x-python",
   "name": "python",
   "nbconvert_exporter": "python",
   "pygments_lexer": "ipython3",
   "version": "3.8.0"
  }
 },
 "nbformat": 4,
 "nbformat_minor": 2
}
